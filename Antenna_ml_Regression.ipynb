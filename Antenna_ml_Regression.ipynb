{
 "cells": [
  {
   "cell_type": "code",
   "execution_count": 18,
   "metadata": {
    "colab": {
     "base_uri": "https://localhost:8080/",
     "height": 34
    },
    "colab_type": "code",
    "id": "zREjYL25eJCk",
    "outputId": "473d1495-7182-4d94-9818-19537e2b8a86"
   },
   "outputs": [],
   "source": [
    "import numpy as np\n",
    "import matplotlib.pyplot as plt\n",
    "import pandas as pd\n",
    "from sklearn.preprocessing import MinMaxScaler, StandardScaler,OneHotEncoder\n",
    "from sklearn.model_selection import train_test_split \n",
    "from sklearn.linear_model import LinearRegression\n",
    "from sklearn import metrics"
   ]
  },
  {
   "cell_type": "code",
   "execution_count": 4,
   "metadata": {
    "colab": {},
    "colab_type": "code",
    "id": "CxQHwguqeJCo"
   },
   "outputs": [
    {
     "data": {
      "text/html": [
       "<div>\n",
       "<style scoped>\n",
       "    .dataframe tbody tr th:only-of-type {\n",
       "        vertical-align: middle;\n",
       "    }\n",
       "\n",
       "    .dataframe tbody tr th {\n",
       "        vertical-align: top;\n",
       "    }\n",
       "\n",
       "    .dataframe thead th {\n",
       "        text-align: right;\n",
       "    }\n",
       "</style>\n",
       "<table border=\"1\" class=\"dataframe\">\n",
       "  <thead>\n",
       "    <tr style=\"text-align: right;\">\n",
       "      <th></th>\n",
       "      <th>length</th>\n",
       "      <th>width</th>\n",
       "      <th>input_impedance</th>\n",
       "      <th>theoretical_resonant_frequency</th>\n",
       "      <th>practical_resonant_frequency</th>\n",
       "      <th>return loss</th>\n",
       "    </tr>\n",
       "  </thead>\n",
       "  <tbody>\n",
       "    <tr>\n",
       "      <th>0</th>\n",
       "      <td>21</td>\n",
       "      <td>31</td>\n",
       "      <td>190.710</td>\n",
       "      <td>3.322</td>\n",
       "      <td>3.2</td>\n",
       "      <td>-14.732727</td>\n",
       "    </tr>\n",
       "    <tr>\n",
       "      <th>1</th>\n",
       "      <td>21</td>\n",
       "      <td>32</td>\n",
       "      <td>179.510</td>\n",
       "      <td>3.319</td>\n",
       "      <td>3.1</td>\n",
       "      <td>-18.323022</td>\n",
       "    </tr>\n",
       "    <tr>\n",
       "      <th>2</th>\n",
       "      <td>21</td>\n",
       "      <td>33</td>\n",
       "      <td>169.119</td>\n",
       "      <td>3.315</td>\n",
       "      <td>3.1</td>\n",
       "      <td>-9.921672</td>\n",
       "    </tr>\n",
       "    <tr>\n",
       "      <th>3</th>\n",
       "      <td>21</td>\n",
       "      <td>34</td>\n",
       "      <td>159.610</td>\n",
       "      <td>3.312</td>\n",
       "      <td>3.2</td>\n",
       "      <td>-10.766945</td>\n",
       "    </tr>\n",
       "    <tr>\n",
       "      <th>4</th>\n",
       "      <td>21</td>\n",
       "      <td>35</td>\n",
       "      <td>150.890</td>\n",
       "      <td>3.309</td>\n",
       "      <td>3.1</td>\n",
       "      <td>-18.116357</td>\n",
       "    </tr>\n",
       "    <tr>\n",
       "      <th>...</th>\n",
       "      <td>...</td>\n",
       "      <td>...</td>\n",
       "      <td>...</td>\n",
       "      <td>...</td>\n",
       "      <td>...</td>\n",
       "      <td>...</td>\n",
       "    </tr>\n",
       "    <tr>\n",
       "      <th>95</th>\n",
       "      <td>30</td>\n",
       "      <td>36</td>\n",
       "      <td>280.210</td>\n",
       "      <td>2.361</td>\n",
       "      <td>2.3</td>\n",
       "      <td>-7.401607</td>\n",
       "    </tr>\n",
       "    <tr>\n",
       "      <th>96</th>\n",
       "      <td>30</td>\n",
       "      <td>37</td>\n",
       "      <td>265.704</td>\n",
       "      <td>2.359</td>\n",
       "      <td>2.3</td>\n",
       "      <td>-7.689543</td>\n",
       "    </tr>\n",
       "    <tr>\n",
       "      <th>97</th>\n",
       "      <td>30</td>\n",
       "      <td>38</td>\n",
       "      <td>252.298</td>\n",
       "      <td>2.357</td>\n",
       "      <td>2.3</td>\n",
       "      <td>-8.025010</td>\n",
       "    </tr>\n",
       "    <tr>\n",
       "      <th>98</th>\n",
       "      <td>30</td>\n",
       "      <td>39</td>\n",
       "      <td>239.886</td>\n",
       "      <td>2.355</td>\n",
       "      <td>2.3</td>\n",
       "      <td>-8.521193</td>\n",
       "    </tr>\n",
       "    <tr>\n",
       "      <th>99</th>\n",
       "      <td>30</td>\n",
       "      <td>40</td>\n",
       "      <td>228.371</td>\n",
       "      <td>2.354</td>\n",
       "      <td>2.3</td>\n",
       "      <td>-9.086540</td>\n",
       "    </tr>\n",
       "  </tbody>\n",
       "</table>\n",
       "<p>100 rows × 6 columns</p>\n",
       "</div>"
      ],
      "text/plain": [
       "    length  width  input_impedance  theoretical_resonant_frequency  \\\n",
       "0       21     31          190.710                           3.322   \n",
       "1       21     32          179.510                           3.319   \n",
       "2       21     33          169.119                           3.315   \n",
       "3       21     34          159.610                           3.312   \n",
       "4       21     35          150.890                           3.309   \n",
       "..     ...    ...              ...                             ...   \n",
       "95      30     36          280.210                           2.361   \n",
       "96      30     37          265.704                           2.359   \n",
       "97      30     38          252.298                           2.357   \n",
       "98      30     39          239.886                           2.355   \n",
       "99      30     40          228.371                           2.354   \n",
       "\n",
       "    practical_resonant_frequency  return loss  \n",
       "0                            3.2   -14.732727  \n",
       "1                            3.1   -18.323022  \n",
       "2                            3.1    -9.921672  \n",
       "3                            3.2   -10.766945  \n",
       "4                            3.1   -18.116357  \n",
       "..                           ...          ...  \n",
       "95                           2.3    -7.401607  \n",
       "96                           2.3    -7.689543  \n",
       "97                           2.3    -8.025010  \n",
       "98                           2.3    -8.521193  \n",
       "99                           2.3    -9.086540  \n",
       "\n",
       "[100 rows x 6 columns]"
      ]
     },
     "execution_count": 4,
     "metadata": {},
     "output_type": "execute_result"
    }
   ],
   "source": [
    "data=pd.read_excel('dataset.xlsx')  \n",
    "data"
   ]
  },
  {
   "cell_type": "code",
   "execution_count": 9,
   "metadata": {
    "colab": {},
    "colab_type": "code",
    "id": "XtarLItFeJCr"
   },
   "outputs": [],
   "source": [
    "X = data[['length', 'width']].values  # attributes\n",
    "Y = data['practical_resonant_frequency'].values   # labels"
   ]
  },
  {
   "cell_type": "code",
   "execution_count": 23,
   "metadata": {
    "colab": {},
    "colab_type": "code",
    "id": "kvk64k7zeJCt"
   },
   "outputs": [
    {
     "data": {
      "text/plain": [
       "array([2.8, 2.6, 3.2, 2.5, 2.7, 2.7, 3.1, 2.3, 2.4, 2.5, 2.6, 2.4, 2.3,\n",
       "       2.6, 2.7, 2.9, 3. , 2.6, 2.6, 2.5, 3.1, 2.6, 2.8, 2.8, 3.1, 3. ,\n",
       "       3. , 2.8, 2.8, 3.1, 2.3, 2.6, 3.2, 2.8, 2.9, 2.7, 3. , 2.8, 2.9,\n",
       "       2.7, 3.1, 2.9, 2.6, 2.7, 2.5, 2.4, 2.8, 2.4, 3. , 2.4, 3. , 2.9,\n",
       "       2.7, 2.3, 2.3, 2.6, 3. , 2.3, 2.5, 2.5, 2.9, 2.8, 2.4, 2.7, 2.8,\n",
       "       2.6, 2.6, 3.1, 2.4, 2.5, 2.4, 2.8, 2.9, 2.4, 3.1, 2.3, 2.6, 2.6,\n",
       "       2.7, 2.8])"
      ]
     },
     "execution_count": 23,
     "metadata": {},
     "output_type": "execute_result"
    }
   ],
   "source": [
    "# Split attributes and labels into training and testing/validation data\n",
    "X_train, X_test, y_train, y_test = train_test_split(X, Y, test_size=0.2, random_state=0)"
   ]
  },
  {
   "cell_type": "code",
   "execution_count": 26,
   "metadata": {
    "colab": {
     "base_uri": "https://localhost:8080/",
     "height": 238
    },
    "colab_type": "code",
    "id": "7GNNK1gYeJCv",
    "outputId": "989b2a82-cb5a-42ce-8962-788f4b2ab799"
   },
   "outputs": [
    {
     "data": {
      "text/plain": [
       "LinearRegression(copy_X=True, fit_intercept=True, n_jobs=None, normalize=False)"
      ]
     },
     "execution_count": 26,
     "metadata": {},
     "output_type": "execute_result"
    }
   ],
   "source": [
    "# Multiple Linear Regression\n",
    "regressor = LinearRegression()\n",
    "regressor.fit(X_train, y_train)"
   ]
  },
  {
   "cell_type": "code",
   "execution_count": 27,
   "metadata": {
    "colab": {},
    "colab_type": "code",
    "id": "uFkjPvwmeJCx"
   },
   "outputs": [
    {
     "data": {
      "text/html": [
       "<div>\n",
       "<style scoped>\n",
       "    .dataframe tbody tr th:only-of-type {\n",
       "        vertical-align: middle;\n",
       "    }\n",
       "\n",
       "    .dataframe tbody tr th {\n",
       "        vertical-align: top;\n",
       "    }\n",
       "\n",
       "    .dataframe thead th {\n",
       "        text-align: right;\n",
       "    }\n",
       "</style>\n",
       "<table border=\"1\" class=\"dataframe\">\n",
       "  <thead>\n",
       "    <tr style=\"text-align: right;\">\n",
       "      <th></th>\n",
       "      <th>0</th>\n",
       "    </tr>\n",
       "  </thead>\n",
       "  <tbody>\n",
       "    <tr>\n",
       "      <th>0</th>\n",
       "      <td>-0.088379</td>\n",
       "    </tr>\n",
       "    <tr>\n",
       "      <th>1</th>\n",
       "      <td>-0.006238</td>\n",
       "    </tr>\n",
       "  </tbody>\n",
       "</table>\n",
       "</div>"
      ],
      "text/plain": [
       "          0\n",
       "0 -0.088379\n",
       "1 -0.006238"
      ]
     },
     "execution_count": 27,
     "metadata": {},
     "output_type": "execute_result"
    }
   ],
   "source": [
    "# Estimated coefficients of regression model\n",
    "coeff_df = pd.DataFrame(regressor.coef_)  \n",
    "coeff_df"
   ]
  },
  {
   "cell_type": "code",
   "execution_count": 28,
   "metadata": {
    "colab": {},
    "colab_type": "code",
    "id": "OopveBKUeJCz",
    "scrolled": true
   },
   "outputs": [],
   "source": [
    "# Predict values using our test data and learned regression\n",
    "y_pred = regressor.predict(X_test)"
   ]
  },
  {
   "cell_type": "code",
   "execution_count": 35,
   "metadata": {},
   "outputs": [
    {
     "name": "stdout",
     "output_type": "stream",
     "text": [
      "Adjusted r_squared:  0.9792053161130769  & r_squared:  0.9813942302064372\n"
     ]
    }
   ],
   "source": [
    "# Sanity check: adjusted_r2 should be close to, and lesser than, r2 \n",
    "#[adjusted_r2 factors in the nb of predictors- refer this:\n",
    "# https://blog.minitab.com/blog/adventures-in-statistics-2/multiple-regession-analysis-use-adjusted-r-squared-and-predicted-r-squared-to-include-the-correct-number-of-variables]\n",
    "SS_Residual = sum((y_test-y_pred)**2) \n",
    "SS_Total = sum((y_test-np.mean(y_test))**2) \n",
    "r_squared = 1 - (float(SS_Residual))/SS_Total\n",
    "adjusted_r_squared = 1 - (1-r_squared)*(len(y_test)-1)/(len(y_test)-X_test.shape[1]-1)\n",
    "print(\"Adjusted r_squared: \",adjusted_r_squared, \" & r_squared: \",r_squared)"
   ]
  },
  {
   "cell_type": "code",
   "execution_count": 32,
   "metadata": {
    "colab": {},
    "colab_type": "code",
    "id": "40r7LZkueJC1"
   },
   "outputs": [
    {
     "data": {
      "text/html": [
       "<div>\n",
       "<style scoped>\n",
       "    .dataframe tbody tr th:only-of-type {\n",
       "        vertical-align: middle;\n",
       "    }\n",
       "\n",
       "    .dataframe tbody tr th {\n",
       "        vertical-align: top;\n",
       "    }\n",
       "\n",
       "    .dataframe thead th {\n",
       "        text-align: right;\n",
       "    }\n",
       "</style>\n",
       "<table border=\"1\" class=\"dataframe\">\n",
       "  <thead>\n",
       "    <tr style=\"text-align: right;\">\n",
       "      <th></th>\n",
       "      <th>Actual</th>\n",
       "      <th>Predicted</th>\n",
       "    </tr>\n",
       "  </thead>\n",
       "  <tbody>\n",
       "    <tr>\n",
       "      <th>0</th>\n",
       "      <td>2.9</td>\n",
       "      <td>2.921253</td>\n",
       "    </tr>\n",
       "    <tr>\n",
       "      <th>1</th>\n",
       "      <td>2.4</td>\n",
       "      <td>2.390980</td>\n",
       "    </tr>\n",
       "    <tr>\n",
       "      <th>2</th>\n",
       "      <td>3.1</td>\n",
       "      <td>3.122964</td>\n",
       "    </tr>\n",
       "    <tr>\n",
       "      <th>3</th>\n",
       "      <td>2.7</td>\n",
       "      <td>2.662355</td>\n",
       "    </tr>\n",
       "    <tr>\n",
       "      <th>4</th>\n",
       "      <td>2.5</td>\n",
       "      <td>2.485597</td>\n",
       "    </tr>\n",
       "    <tr>\n",
       "      <th>5</th>\n",
       "      <td>2.3</td>\n",
       "      <td>2.321316</td>\n",
       "    </tr>\n",
       "    <tr>\n",
       "      <th>6</th>\n",
       "      <td>3.0</td>\n",
       "      <td>3.009632</td>\n",
       "    </tr>\n",
       "    <tr>\n",
       "      <th>7</th>\n",
       "      <td>2.5</td>\n",
       "      <td>2.498074</td>\n",
       "    </tr>\n",
       "    <tr>\n",
       "      <th>8</th>\n",
       "      <td>2.7</td>\n",
       "      <td>2.668593</td>\n",
       "    </tr>\n",
       "    <tr>\n",
       "      <th>9</th>\n",
       "      <td>2.3</td>\n",
       "      <td>2.308840</td>\n",
       "    </tr>\n",
       "    <tr>\n",
       "      <th>10</th>\n",
       "      <td>2.7</td>\n",
       "      <td>2.674831</td>\n",
       "    </tr>\n",
       "    <tr>\n",
       "      <th>11</th>\n",
       "      <td>2.3</td>\n",
       "      <td>2.327554</td>\n",
       "    </tr>\n",
       "    <tr>\n",
       "      <th>12</th>\n",
       "      <td>2.5</td>\n",
       "      <td>2.466883</td>\n",
       "    </tr>\n",
       "    <tr>\n",
       "      <th>13</th>\n",
       "      <td>3.1</td>\n",
       "      <td>3.028347</td>\n",
       "    </tr>\n",
       "    <tr>\n",
       "      <th>14</th>\n",
       "      <td>3.2</td>\n",
       "      <td>3.091773</td>\n",
       "    </tr>\n",
       "    <tr>\n",
       "      <th>15</th>\n",
       "      <td>2.9</td>\n",
       "      <td>2.870304</td>\n",
       "    </tr>\n",
       "    <tr>\n",
       "      <th>16</th>\n",
       "      <td>2.9</td>\n",
       "      <td>2.946206</td>\n",
       "    </tr>\n",
       "    <tr>\n",
       "      <th>17</th>\n",
       "      <td>2.9</td>\n",
       "      <td>2.933730</td>\n",
       "    </tr>\n",
       "    <tr>\n",
       "      <th>18</th>\n",
       "      <td>2.8</td>\n",
       "      <td>2.851589</td>\n",
       "    </tr>\n",
       "    <tr>\n",
       "      <th>19</th>\n",
       "      <td>3.1</td>\n",
       "      <td>3.085535</td>\n",
       "    </tr>\n",
       "  </tbody>\n",
       "</table>\n",
       "</div>"
      ],
      "text/plain": [
       "    Actual  Predicted\n",
       "0      2.9   2.921253\n",
       "1      2.4   2.390980\n",
       "2      3.1   3.122964\n",
       "3      2.7   2.662355\n",
       "4      2.5   2.485597\n",
       "5      2.3   2.321316\n",
       "6      3.0   3.009632\n",
       "7      2.5   2.498074\n",
       "8      2.7   2.668593\n",
       "9      2.3   2.308840\n",
       "10     2.7   2.674831\n",
       "11     2.3   2.327554\n",
       "12     2.5   2.466883\n",
       "13     3.1   3.028347\n",
       "14     3.2   3.091773\n",
       "15     2.9   2.870304\n",
       "16     2.9   2.946206\n",
       "17     2.9   2.933730\n",
       "18     2.8   2.851589\n",
       "19     3.1   3.085535"
      ]
     },
     "execution_count": 32,
     "metadata": {},
     "output_type": "execute_result"
    }
   ],
   "source": [
    "# View the actual and predicted values for the labels\n",
    "df = pd.DataFrame({'Actual': y_test, 'Predicted': y_pred})\n",
    "df"
   ]
  },
  {
   "cell_type": "code",
   "execution_count": 33,
   "metadata": {},
   "outputs": [
    {
     "data": {
      "image/png": "[encoded data removed]",
      "text/plain": [
       "<Figure size 720x576 with 1 Axes>"
      ]
     },
     "metadata": {
      "needs_background": "light"
     },
     "output_type": "display_data"
    }
   ],
   "source": [
    "# Bar graph showing the same thing as above:\n",
    "# NOTE: Seems to have greater difference between actual and pred values in higher values(eg 3.2,3.1). Could be coincidental, but a check would be nice\n",
    "df.plot(kind='bar',figsize=(10,8))\n",
    "plt.grid(which='major', linestyle='-', linewidth='0.5', color='green')\n",
    "plt.grid(which='minor', linestyle=':', linewidth='0.5', color='black')\n",
    "plt.show()"
   ]
  },
  {
   "cell_type": "code",
   "execution_count": 34,
   "metadata": {
    "colab": {
     "base_uri": "https://localhost:8080/",
     "height": 1000
    },
    "colab_type": "code",
    "id": "aB-xrCsneJC3",
    "outputId": "e424cc38-2ac2-469f-891f-89f792aef492"
   },
   "outputs": [
    {
     "name": "stdout",
     "output_type": "stream",
     "text": [
      "Mean Absolute Error: 0.030990610968220044\n",
      "Mean Squared Error: 0.0015331154309895746\n",
      "Root Mean Squared Error: 0.03915501795414701\n",
      "Root Mean Squared Log Error: 0.009952055757557449\n",
      "R^2 score: 0.9813942302064372\n"
     ]
    }
   ],
   "source": [
    "# Print all metrics\n",
    "print('Mean Absolute Error:', metrics.mean_absolute_error(y_test, y_pred))  \n",
    "print('Mean Squared Error:', metrics.mean_squared_error(y_test, y_pred))  \n",
    "print('Root Mean Squared Error:', np.sqrt(metrics.mean_squared_error(y_test, y_pred)))\n",
    "print('Root Mean Squared Log Error:', np.sqrt(metrics.mean_squared_log_error(y_test, y_pred )))\n",
    "print('R^2 score:',metrics.r2_score(y_test, y_pred))"
   ]
  },
  {
   "cell_type": "code",
   "execution_count": null,
   "metadata": {
    "colab": {},
    "colab_type": "code",
    "id": "MhAyF_WaeJDK"
   },
   "outputs": [],
   "source": []
  },
  {
   "cell_type": "code",
   "execution_count": 0,
   "metadata": {
    "colab": {},
    "colab_type": "code",
    "id": "t0GdOfcGeJDL"
   },
   "outputs": [],
   "source": []
  }
 ],
 "metadata": {
  "colab": {
   "name": "Antenna ml.ipynb",
   "provenance": []
  },
  "kernelspec": {
   "display_name": "Python 3",
   "language": "python",
   "name": "python3"
  },
  "language_info": {
   "codemirror_mode": {
    "name": "ipython",
    "version": 3
   },
   "file_extension": ".py",
   "mimetype": "text/x-python",
   "name": "python",
   "nbconvert_exporter": "python",
   "pygments_lexer": "ipython3",
   "version": "3.7.7"
  }
 },
 "nbformat": 4,
 "nbformat_minor": 1
}
